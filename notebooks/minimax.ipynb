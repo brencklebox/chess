{
 "cells": [
  {
   "cell_type": "markdown",
   "metadata": {},
   "source": [
    "## Game simulator"
   ]
  },
  {
   "cell_type": "code",
   "execution_count": null,
   "metadata": {},
   "outputs": [],
   "source": [
    "import os\n",
    "import chess\n",
    "import random"
   ]
  },
  {
   "cell_type": "code",
   "execution_count": null,
   "metadata": {},
   "outputs": [],
   "source": [
    "# move calculator for white team\n",
    "def calculateBestMove(board):\n",
    "    # generate all the moves for a given position\n",
    "    random_move = random.choice([move for move in board.legal_moves])\n",
    "    uci = random_move.uci()\n",
    "    return uci\n",
    "\n",
    "\n",
    "# Initialise board\n",
    "board = chess.Board()\n",
    "\n",
    "while not board.is_game_over():\n",
    "    # Pick a move at random\n",
    "    if board.turn:\n",
    "        # white's move\n",
    "        move = calculateBestMove(board)\n",
    "    else:\n",
    "        # black's turn\n",
    "        random_move = random.choice([move for move in board.legal_moves])\n",
    "        move = random_move.uci()\n",
    "\n",
    "    board.push_uci(move)"
   ]
  },
  {
   "cell_type": "code",
   "execution_count": null,
   "metadata": {},
   "outputs": [],
   "source": [
    "def minimaxRoot(depth, board, color):\n",
    "    \"\"\"\n",
    "    Returns the best minimax _move_ for a given board and player\n",
    "    \"\"\"\n",
    "    bestMove = \"\"\n",
    "    bestMoveScore = -9000\n",
    "    \n",
    "    for move in board.legal_moves:\n",
    "        board.push_uci(move.uci())\n",
    "        value = minimax(depth-1, board, -10000, 10000, color)\n",
    "        board.pop()\n",
    "        if color == chess.BLACK:\n",
    "            value *= -1\n",
    "        if value > bestMoveScore:\n",
    "            bestMoveScore = value\n",
    "            bestMove = move\n",
    "        \n",
    "    return bestMove.uci()\n",
    "\n",
    "\n",
    "def minimax(depth, board, alpha, beta, color):\n",
    "    \"\"\"\n",
    "    Returns the minimax _value_ for a given board and player\n",
    "    \"\"\"\n",
    "    if depth == 0:\n",
    "        return evaluateBoard(board)\n",
    "    \n",
    "    if color == chess.WHITE:\n",
    "        bestMoveScore = -9000\n",
    "        for move in board.legal_moves:\n",
    "            board.push_uci(move.uci())\n",
    "            bestMoveScore = np.max([bestMoveScore, \n",
    "                                    minimax(depth - 1, board, \n",
    "                                            alpha, beta, \n",
    "                                            chess.BLACK)])\n",
    "            board.pop()\n",
    "            alpha = np.max([alpha, bestMoveScore])\n",
    "            if beta <= alpha:\n",
    "                return bestMoveScore\n",
    "        \n",
    "        return bestMoveScore\n",
    "    elif color == chess.BLACK:\n",
    "        bestMoveScore = 9000\n",
    "        for move in board.legal_moves:\n",
    "            board.push_uci(move.uci())\n",
    "            bestMoveScore = np.min([bestMoveScore, \n",
    "                                    minimax(depth - 1, board, \n",
    "                                            alpha, beta,\n",
    "                                            chess.WHITE)])\n",
    "            board.pop()\n",
    "            beta = np.min([beta, bestMoveScore])\n",
    "            if beta <= alpha:\n",
    "                return bestMoveScore\n",
    "        \n",
    "    return bestMoveScore"
   ]
  }
 ],
 "metadata": {
  "kernelspec": {
   "display_name": "Python 3",
   "language": "python",
   "name": "python3"
  },
  "language_info": {
   "codemirror_mode": {
    "name": "ipython",
    "version": 3
   },
   "file_extension": ".py",
   "mimetype": "text/x-python",
   "name": "python",
   "nbconvert_exporter": "python",
   "pygments_lexer": "ipython3",
   "version": "3.6.5"
  }
 },
 "nbformat": 4,
 "nbformat_minor": 2
}
