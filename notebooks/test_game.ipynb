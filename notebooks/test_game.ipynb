{
 "nbformat": 4,
 "nbformat_minor": 2,
 "metadata": {
  "language_info": {
   "name": "python",
   "codemirror_mode": {
    "name": "ipython",
    "version": 3
   },
   "version": "3.5.3-candidate"
  },
  "orig_nbformat": 2,
  "file_extension": ".py",
  "mimetype": "text/x-python",
  "name": "python",
  "npconvert_exporter": "python",
  "pygments_lexer": "ipython3",
  "version": 3,
  "kernelspec": {
   "name": "python35364bit2e57ae0041a64e9d9f1a69f2868a208d",
   "display_name": "Python 3.5.3 64-bit"
  }
 },
 "cells": [
  {
   "source": [
    "import chess\n",
    "import chess.engine\n",
    "from lib import minimax_model, common\n",
    "\n",
    "def stockfish_player(board, path=None, time=0.1, skill=1):\n",
    "    eng = chess.engine.SimpleEngine.popen_uci(path)\n",
    "    move = eng.play(board, chess.engine.Limit(time), options={\"Skill Level\": skill})\n",
    "    return move\n",
    "\n",
    "\n",
    "minimax_player = minimax_model.minimax_player\n",
    "minimax_options = {\"depth\": 2, \"color\": chess.WHITE}\n",
    "\n",
    "stockfish_player = stockfish_player\n",
    "stockfish_options = {\"path\": \"/Users/brenckle mark/Downloads/stockfish-10-mac/Mac/stockfish-10-64\",\n",
    "                     \"time\": 0.1,\n",
    "                     \"skill\": 1}"
   ],
   "cell_type": "code",
   "outputs": [],
   "metadata": {},
   "execution_count": 1
  },
  {
   "source": [
    "common.play_game(minimax_player, minimax_player, minimax_options, minimax_options, visual=None, pause=0.001)"
   ],
   "cell_type": "code",
   "outputs": [
    {
     "output_type": "execute_result",
     "data": {
      "text/plain": "(None,\n 'draw: claim',\n Board('1k1rr3/ppp2p1p/3qbb1p/3p3K/2nnp3/8/8/8 b - - 7 34'))"
     },
     "metadata": {},
     "execution_count": 2
    }
   ],
   "metadata": {},
   "execution_count": 2
  },
  {
   "cell_type": "code",
   "execution_count": null,
   "metadata": {},
   "outputs": [],
   "source": []
  }
 ]
}