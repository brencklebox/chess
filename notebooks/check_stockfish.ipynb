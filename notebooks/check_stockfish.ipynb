{
 "nbformat": 4,
 "nbformat_minor": 2,
 "metadata": {
  "language_info": {
   "name": "python",
   "codemirror_mode": {
    "name": "ipython",
    "version": 3
   },
   "version": "3.5.3-candidate"
  },
  "orig_nbformat": 2,
  "file_extension": ".py",
  "mimetype": "text/x-python",
  "name": "python",
  "npconvert_exporter": "python",
  "pygments_lexer": "ipython3",
  "version": 3,
  "kernelspec": {
   "name": "python35364bit2e57ae0041a64e9d9f1a69f2868a208d",
   "display_name": "Python 3.5.3 64-bit"
  }
 },
 "cells": [
  {
   "cell_type": "code",
   "execution_count": 58,
   "metadata": {},
   "outputs": [],
   "source": [
    "import chess\n",
    "import chess.engine\n",
    "import math\n",
    "\n",
    "# ELO to skill level map\n",
    "\n",
    "STOCKFISH_LEVELS = {0: 1231,\n",
    "                    1: 1341,\n",
    "          2: 1443,\n",
    "          3: 1538,\n",
    "          4: 1678,\n",
    "          5: 1823,\n",
    "          6: 1881,\n",
    "          7: 1976,\n",
    "          8: 2067,\n",
    "          9: 2129,\n",
    "          10: 2221,\n",
    "          11: 2320,\n",
    "          12: 2406,\n",
    "          13: 2483,\n",
    "          14: 2571,\n",
    "          15: 2657,\n",
    "          16: 2761,\n",
    "          17: 2815,\n",
    "          18: 2872,\n",
    "          19: 2905,\n",
    "          20: 3450}\n",
    "\n",
    "STOCKFISH_PATH = \"/Users/brenckle mark/Downloads/stockfish-10-mac/Mac/stockfish-10-64\"\n",
    "\n",
    "def play_benchmark_game(stkfsh_path, model, skill=1, model_options={}, engine_white=True):\n",
    "    \"\"\"Play benchmark game against stockfish engine\n",
    "    \n",
    "    parameters:\n",
    "        stkfsh_path (str) -- path to stockfish engine executable\n",
    "        model (python-chess.Engine) -- model to compare engine against\n",
    "        model_options(dict) -- dictionary of UCI options for model\n",
    "        skill (int) -- skill-level of stockfish engine, accepts 0-20\n",
    "        white (bool, True) -- whether stockfish goes first\n",
    "\n",
    "    output:\n",
    "        result (str) -- result of game\n",
    "    \"\"\"\n",
    "    board = chess.Board()\n",
    "    stockfish = {\"eng\": chess.engine.SimpleEngine.popen_uci(stkfsh_path),\n",
    "                 \"limit\": chess.engine.Limit(time=0.1),\n",
    "                 \"options\": {\"Skill Level\": skill}}\n",
    "    mdl_engine = {\"eng\": model,\n",
    "                 \"limit\": chess.engine.Limit(time=0.1),\n",
    "                 \"options\": model_options}\n",
    "    if engine_white:\n",
    "        players = [stockfish, mdl_engine]\n",
    "    else:\n",
    "        players = [mdl_engine, stockfish]\n",
    "    idx = 1\n",
    "    while not board.is_game_over():\n",
    "        if idx % 2 == 0:\n",
    "            player = players[0]\n",
    "        else:\n",
    "            player = players[1]\n",
    "        move = player['eng'].play(board, player['limit'], options=player['options'])\n",
    "        board.push(move.move)\n",
    "        idx += 1\n",
    "\n",
    "    result = board.result()\n",
    "    stockfish['eng'].quit()\n",
    "    return result\n",
    "\n",
    "\n",
    "def elo_win_probability(rating1, rating2): \n",
    "    return 1.0 * 1.0 / (1 + 1.0 * math.pow(10, 1.0 * (rating1 - rating2) / 400)) \n",
    "   \n",
    "def EloRating(Ra, Rb, win): \n",
    "    \"\"\"Update ELO.\n",
    "\n",
    "    parameters:\n",
    "        Ra -- rating, player A\n",
    "        Rb -- rating, player B\n",
    "        win -- decision for player A\n",
    "    returns:\n",
    "        Ea -- new ELO of player A\n",
    "        Eb -- new ELO of player B\n",
    "    \"\"\"\n",
    "\n",
    "    Pb = elo_win_probability(Ra, Rb) \n",
    "    Pa = elo_win_probability(Rb, Ra) \n",
    "  \n",
    "    if (win == 1) : \n",
    "        Ea = Ra + 40 * (1 - Pa) \n",
    "        Eb = Rb + 40 * (0 - Pb) \n",
    "    else : \n",
    "        Ea = Ra + 40 * (0 - Pa) \n",
    "        Eb = Rb + 40 * (1 - Pb)\n",
    "    Ea = round(Ea, 0)\n",
    "    Eb = round(Eb, 0)\n",
    "    return (Ea, Eb)\n"
   ]
  },
  {
   "cell_type": "code",
   "execution_count": 59,
   "metadata": {},
   "outputs": [
    {
     "name": "stdout",
     "output_type": "stream",
     "text": "finished playing game 10 of 200\nfinished playing game 20 of 200\nfinished playing game 30 of 200\nfinished playing game 40 of 200\nfinished playing game 50 of 200\nfinished playing game 60 of 200\nfinished playing game 70 of 200\nfinished playing game 80 of 200\nfinished playing game 90 of 200\nfinished playing game 100 of 200\nfinished playing game 110 of 200\nfinished playing game 120 of 200\nfinished playing game 130 of 200\nfinished playing game 140 of 200\nfinished playing game 150 of 200\nfinished playing game 160 of 200\nfinished playing game 170 of 200\nfinished playing game 180 of 200\nfinished playing game 190 of 200\nfinished playing game 200 of 200\n"
    }
   ],
   "source": [
    "# set up testing engine\n",
    "engine = chess.engine.SimpleEngine.popen_uci(\"/Users/brenckle mark/Downloads/stockfish-10-mac/Mac/stockfish-10-64\")\n",
    "engine_opts = {\"Skill Level\": 10}\n",
    "elo_guess = 1000\n",
    "\n",
    "results = []\n",
    "# play games against a range of skills\n",
    "idx = 0\n",
    "for skill in range(20):\n",
    "    for game in range(10):\n",
    "        white = (game % 2 == 0)\n",
    "        decision = play_benchmark_game(STOCKFISH_PATH, engine, skill=skill, model_options=engine_opts, engine_white=white)\n",
    "        result = {\"skill\": skill, \"white\": white, \"decision\": decision}\n",
    "        results.append(result)\n",
    "        idx +=1\n",
    "        if idx % 10 == 0:\n",
    "            print(\"finished playing game\", idx, \"of 200\")\n",
    "engine.quit()"
   ]
  },
  {
   "cell_type": "code",
   "execution_count": 64,
   "metadata": {},
   "outputs": [
    {
     "name": "stdout",
     "output_type": "stream",
     "text": "2112.0\n"
    }
   ],
   "source": [
    "# start with low initial guess for ELO\n",
    "elo = elo_guess\n",
    "\n",
    "# update ELO based on results\n",
    "for result in results:\n",
    "    benchmark_skill = STOCKFISH_LEVELS[result['skill']]\n",
    "    if result['white']:\n",
    "        if result['decision'] == \"1-0\":\n",
    "            ratings = EloRating(elo, benchmark_skill, 1)\n",
    "        elif result['decision'] == \"0-1\":\n",
    "            ratings = EloRating(elo, benchmark_skill, 0)\n",
    "    else:\n",
    "        if result['decision'] == \"0-1\":\n",
    "            ratings = EloRating(elo, benchmark_skill, 1)\n",
    "        elif result['decision'] == \"1-0\":\n",
    "            ratings = EloRating(elo, benchmark_skill, 0)\n",
    "    elo = ratings[0]\n",
    "\n",
    "print(elo)"
   ]
  },
  {
   "cell_type": "code",
   "execution_count": 63,
   "metadata": {},
   "outputs": [
    {
     "data": {
      "text/plain": "[{'decision': '1-0', 'skill': 0, 'white': True},\n {'decision': '0-1', 'skill': 0, 'white': False},\n {'decision': '1-0', 'skill': 0, 'white': True},\n {'decision': '0-1', 'skill': 0, 'white': False},\n {'decision': '1-0', 'skill': 0, 'white': True},\n {'decision': '0-1', 'skill': 0, 'white': False},\n {'decision': '1-0', 'skill': 0, 'white': True},\n {'decision': '0-1', 'skill': 0, 'white': False},\n {'decision': '1-0', 'skill': 0, 'white': True},\n {'decision': '0-1', 'skill': 0, 'white': False},\n {'decision': '1-0', 'skill': 1, 'white': True},\n {'decision': '0-1', 'skill': 1, 'white': False},\n {'decision': '1-0', 'skill': 1, 'white': True},\n {'decision': '0-1', 'skill': 1, 'white': False},\n {'decision': '1-0', 'skill': 1, 'white': True},\n {'decision': '0-1', 'skill': 1, 'white': False},\n {'decision': '1-0', 'skill': 1, 'white': True},\n {'decision': '0-1', 'skill': 1, 'white': False},\n {'decision': '1-0', 'skill': 1, 'white': True},\n {'decision': '0-1', 'skill': 1, 'white': False},\n {'decision': '1-0', 'skill': 2, 'white': True},\n {'decision': '0-1', 'skill': 2, 'white': False},\n {'decision': '1-0', 'skill': 2, 'white': True},\n {'decision': '0-1', 'skill': 2, 'white': False},\n {'decision': '1-0', 'skill': 2, 'white': True},\n {'decision': '0-1', 'skill': 2, 'white': False},\n {'decision': '1-0', 'skill': 2, 'white': True},\n {'decision': '0-1', 'skill': 2, 'white': False},\n {'decision': '1-0', 'skill': 2, 'white': True},\n {'decision': '0-1', 'skill': 2, 'white': False},\n {'decision': '1-0', 'skill': 3, 'white': True},\n {'decision': '0-1', 'skill': 3, 'white': False},\n {'decision': '1-0', 'skill': 3, 'white': True},\n {'decision': '0-1', 'skill': 3, 'white': False},\n {'decision': '1-0', 'skill': 3, 'white': True},\n {'decision': '0-1', 'skill': 3, 'white': False},\n {'decision': '1-0', 'skill': 3, 'white': True},\n {'decision': '0-1', 'skill': 3, 'white': False},\n {'decision': '1-0', 'skill': 3, 'white': True},\n {'decision': '0-1', 'skill': 3, 'white': False},\n {'decision': '1-0', 'skill': 4, 'white': True},\n {'decision': '0-1', 'skill': 4, 'white': False},\n {'decision': '1-0', 'skill': 4, 'white': True},\n {'decision': '0-1', 'skill': 4, 'white': False},\n {'decision': '1-0', 'skill': 4, 'white': True},\n {'decision': '0-1', 'skill': 4, 'white': False},\n {'decision': '1-0', 'skill': 4, 'white': True},\n {'decision': '0-1', 'skill': 4, 'white': False},\n {'decision': '1-0', 'skill': 4, 'white': True},\n {'decision': '0-1', 'skill': 4, 'white': False},\n {'decision': '1-0', 'skill': 5, 'white': True},\n {'decision': '0-1', 'skill': 5, 'white': False},\n {'decision': '1-0', 'skill': 5, 'white': True},\n {'decision': '0-1', 'skill': 5, 'white': False},\n {'decision': '1-0', 'skill': 5, 'white': True},\n {'decision': '0-1', 'skill': 5, 'white': False},\n {'decision': '1-0', 'skill': 5, 'white': True},\n {'decision': '0-1', 'skill': 5, 'white': False},\n {'decision': '1-0', 'skill': 5, 'white': True},\n {'decision': '0-1', 'skill': 5, 'white': False},\n {'decision': '1-0', 'skill': 6, 'white': True},\n {'decision': '0-1', 'skill': 6, 'white': False},\n {'decision': '1-0', 'skill': 6, 'white': True},\n {'decision': '0-1', 'skill': 6, 'white': False},\n {'decision': '1-0', 'skill': 6, 'white': True},\n {'decision': '0-1', 'skill': 6, 'white': False},\n {'decision': '1-0', 'skill': 6, 'white': True},\n {'decision': '1/2-1/2', 'skill': 6, 'white': False},\n {'decision': '1-0', 'skill': 6, 'white': True},\n {'decision': '0-1', 'skill': 6, 'white': False},\n {'decision': '1-0', 'skill': 7, 'white': True},\n {'decision': '0-1', 'skill': 7, 'white': False},\n {'decision': '1-0', 'skill': 7, 'white': True},\n {'decision': '0-1', 'skill': 7, 'white': False},\n {'decision': '1-0', 'skill': 7, 'white': True},\n {'decision': '1-0', 'skill': 7, 'white': False},\n {'decision': '1-0', 'skill': 7, 'white': True},\n {'decision': '0-1', 'skill': 7, 'white': False},\n {'decision': '1-0', 'skill': 7, 'white': True},\n {'decision': '1-0', 'skill': 7, 'white': False},\n {'decision': '0-1', 'skill': 8, 'white': True},\n {'decision': '1-0', 'skill': 8, 'white': False},\n {'decision': '0-1', 'skill': 8, 'white': True},\n {'decision': '1-0', 'skill': 8, 'white': False},\n {'decision': '0-1', 'skill': 8, 'white': True},\n {'decision': '0-1', 'skill': 8, 'white': False},\n {'decision': '1-0', 'skill': 8, 'white': True},\n {'decision': '0-1', 'skill': 8, 'white': False},\n {'decision': '1-0', 'skill': 8, 'white': True},\n {'decision': '0-1', 'skill': 8, 'white': False},\n {'decision': '1-0', 'skill': 9, 'white': True},\n {'decision': '1-0', 'skill': 9, 'white': False},\n {'decision': '1-0', 'skill': 9, 'white': True},\n {'decision': '1-0', 'skill': 9, 'white': False},\n {'decision': '0-1', 'skill': 9, 'white': True},\n {'decision': '1-0', 'skill': 9, 'white': False},\n {'decision': '1/2-1/2', 'skill': 9, 'white': True},\n {'decision': '0-1', 'skill': 9, 'white': False},\n {'decision': '1-0', 'skill': 9, 'white': True},\n {'decision': '1-0', 'skill': 9, 'white': False},\n {'decision': '1-0', 'skill': 10, 'white': True},\n {'decision': '1-0', 'skill': 10, 'white': False},\n {'decision': '0-1', 'skill': 10, 'white': True},\n {'decision': '0-1', 'skill': 10, 'white': False},\n {'decision': '0-1', 'skill': 10, 'white': True},\n {'decision': '1-0', 'skill': 10, 'white': False},\n {'decision': '1-0', 'skill': 10, 'white': True},\n {'decision': '1-0', 'skill': 10, 'white': False},\n {'decision': '0-1', 'skill': 10, 'white': True},\n {'decision': '1-0', 'skill': 10, 'white': False},\n {'decision': '0-1', 'skill': 11, 'white': True},\n {'decision': '1-0', 'skill': 11, 'white': False},\n {'decision': '1-0', 'skill': 11, 'white': True},\n {'decision': '0-1', 'skill': 11, 'white': False},\n {'decision': '0-1', 'skill': 11, 'white': True},\n {'decision': '1-0', 'skill': 11, 'white': False},\n {'decision': '0-1', 'skill': 11, 'white': True},\n {'decision': '1-0', 'skill': 11, 'white': False},\n {'decision': '0-1', 'skill': 11, 'white': True},\n {'decision': '1-0', 'skill': 11, 'white': False},\n {'decision': '0-1', 'skill': 12, 'white': True},\n {'decision': '1-0', 'skill': 12, 'white': False},\n {'decision': '1-0', 'skill': 12, 'white': True},\n {'decision': '1-0', 'skill': 12, 'white': False},\n {'decision': '0-1', 'skill': 12, 'white': True},\n {'decision': '1-0', 'skill': 12, 'white': False},\n {'decision': '0-1', 'skill': 12, 'white': True},\n {'decision': '1-0', 'skill': 12, 'white': False},\n {'decision': '0-1', 'skill': 12, 'white': True},\n {'decision': '1/2-1/2', 'skill': 12, 'white': False},\n {'decision': '0-1', 'skill': 13, 'white': True},\n {'decision': '1/2-1/2', 'skill': 13, 'white': False},\n {'decision': '0-1', 'skill': 13, 'white': True},\n {'decision': '1-0', 'skill': 13, 'white': False},\n {'decision': '0-1', 'skill': 13, 'white': True},\n {'decision': '1-0', 'skill': 13, 'white': False},\n {'decision': '1-0', 'skill': 13, 'white': True},\n {'decision': '1-0', 'skill': 13, 'white': False},\n {'decision': '0-1', 'skill': 13, 'white': True},\n {'decision': '1-0', 'skill': 13, 'white': False},\n {'decision': '0-1', 'skill': 14, 'white': True},\n {'decision': '1-0', 'skill': 14, 'white': False},\n {'decision': '0-1', 'skill': 14, 'white': True},\n {'decision': '1-0', 'skill': 14, 'white': False},\n {'decision': '0-1', 'skill': 14, 'white': True},\n {'decision': '1-0', 'skill': 14, 'white': False},\n {'decision': '0-1', 'skill': 14, 'white': True},\n {'decision': '1-0', 'skill': 14, 'white': False},\n {'decision': '0-1', 'skill': 14, 'white': True},\n {'decision': '1-0', 'skill': 14, 'white': False},\n {'decision': '0-1', 'skill': 15, 'white': True},\n {'decision': '1-0', 'skill': 15, 'white': False},\n {'decision': '0-1', 'skill': 15, 'white': True},\n {'decision': '1-0', 'skill': 15, 'white': False},\n {'decision': '0-1', 'skill': 15, 'white': True},\n {'decision': '1-0', 'skill': 15, 'white': False},\n {'decision': '0-1', 'skill': 15, 'white': True},\n {'decision': '1-0', 'skill': 15, 'white': False},\n {'decision': '0-1', 'skill': 15, 'white': True},\n {'decision': '1-0', 'skill': 15, 'white': False},\n {'decision': '0-1', 'skill': 16, 'white': True},\n {'decision': '1-0', 'skill': 16, 'white': False},\n {'decision': '0-1', 'skill': 16, 'white': True},\n {'decision': '1-0', 'skill': 16, 'white': False},\n {'decision': '1-0', 'skill': 16, 'white': True},\n {'decision': '1-0', 'skill': 16, 'white': False},\n {'decision': '0-1', 'skill': 16, 'white': True},\n {'decision': '1-0', 'skill': 16, 'white': False},\n {'decision': '0-1', 'skill': 16, 'white': True},\n {'decision': '1-0', 'skill': 16, 'white': False},\n {'decision': '0-1', 'skill': 17, 'white': True},\n {'decision': '1-0', 'skill': 17, 'white': False},\n {'decision': '1-0', 'skill': 17, 'white': True},\n {'decision': '1-0', 'skill': 17, 'white': False},\n {'decision': '0-1', 'skill': 17, 'white': True},\n {'decision': '1-0', 'skill': 17, 'white': False},\n {'decision': '0-1', 'skill': 17, 'white': True},\n {'decision': '1/2-1/2', 'skill': 17, 'white': False},\n {'decision': '0-1', 'skill': 17, 'white': True},\n {'decision': '1-0', 'skill': 17, 'white': False},\n {'decision': '0-1', 'skill': 18, 'white': True},\n {'decision': '1-0', 'skill': 18, 'white': False},\n {'decision': '0-1', 'skill': 18, 'white': True},\n {'decision': '1-0', 'skill': 18, 'white': False},\n {'decision': '0-1', 'skill': 18, 'white': True},\n {'decision': '1-0', 'skill': 18, 'white': False},\n {'decision': '0-1', 'skill': 18, 'white': True},\n {'decision': '1-0', 'skill': 18, 'white': False},\n {'decision': '0-1', 'skill': 18, 'white': True},\n {'decision': '1-0', 'skill': 18, 'white': False},\n {'decision': '0-1', 'skill': 19, 'white': True},\n {'decision': '1-0', 'skill': 19, 'white': False},\n {'decision': '0-1', 'skill': 19, 'white': True},\n {'decision': '1-0', 'skill': 19, 'white': False},\n {'decision': '0-1', 'skill': 19, 'white': True},\n {'decision': '1-0', 'skill': 19, 'white': False},\n {'decision': '0-1', 'skill': 19, 'white': True},\n {'decision': '1-0', 'skill': 19, 'white': False},\n {'decision': '0-1', 'skill': 19, 'white': True},\n {'decision': '1-0', 'skill': 19, 'white': False}]"
     },
     "execution_count": 63,
     "metadata": {},
     "output_type": "execute_result"
    }
   ],
   "source": [
    "results"
   ]
  }
 ]
}